{
  "cells": [
    {
      "cell_type": "markdown",
      "metadata": {
        "id": "view-in-github",
        "colab_type": "text"
      },
      "source": [
        "<a href=\"https://colab.research.google.com/github/FuzzyDucksTV/strem/blob/main/main_py.ipynb\" target=\"_parent\"><img src=\"https://colab.research.google.com/assets/colab-badge.svg\" alt=\"Open In Colab\"/></a>"
      ]
    },
    {
      "cell_type": "markdown",
      "source": [
        "There are two ways to use multiple .py files in Google Colab:\n",
        "\n",
        "1. **Import the files as modules.** This is the simplest way to do it. You can use the `import` statement to import a .py file as a module. For example, if you have a .py file called `my_module.py`, you can import it as follows:"
      ],
      "metadata": {
        "id": "bu56dPPxRVEn"
      }
    },
    {
      "cell_type": "markdown",
      "source": [
        "# New section"
      ],
      "metadata": {
        "id": "DYi1XX4YRWp8"
      }
    },
    {
      "cell_type": "code",
      "source": [
        "from google.colab import drive\n",
        "drive.mount('/content/drive')"
      ],
      "metadata": {
        "colab": {
          "base_uri": "https://localhost:8080/"
        },
        "id": "RFpxFV0kRZ7E",
        "outputId": "4ba89de9-e123-42bd-f25e-8fa089ded27b"
      },
      "execution_count": 1,
      "outputs": [
        {
          "output_type": "stream",
          "name": "stdout",
          "text": [
            "Mounted at /content/drive\n"
          ]
        }
      ]
    },
    {
      "cell_type": "code",
      "source": [
        "!pip install chat-downloader vaderSentiment nltk"
      ],
      "metadata": {
        "colab": {
          "base_uri": "https://localhost:8080/"
        },
        "id": "hppm7A25SjUj",
        "outputId": "7eb9f219-978e-42a3-9d12-85b978445a49"
      },
      "execution_count": 2,
      "outputs": [
        {
          "output_type": "stream",
          "name": "stdout",
          "text": [
            "Looking in indexes: https://pypi.org/simple, https://us-python.pkg.dev/colab-wheels/public/simple/\n",
            "Collecting chat-downloader\n",
            "  Downloading chat_downloader-0.2.7-py2.py3-none-any.whl (77 kB)\n",
            "\u001b[2K     \u001b[90m━━━━━━━━━━━━━━━━━━━━━━━━━━━━━━━━━━━━━━━━\u001b[0m \u001b[32m77.8/77.8 kB\u001b[0m \u001b[31m3.6 MB/s\u001b[0m eta \u001b[36m0:00:00\u001b[0m\n",
            "\u001b[?25hCollecting vaderSentiment\n",
            "  Downloading vaderSentiment-3.3.2-py2.py3-none-any.whl (125 kB)\n",
            "\u001b[2K     \u001b[90m━━━━━━━━━━━━━━━━━━━━━━━━━━━━━━━━━━━━━━━\u001b[0m \u001b[32m126.0/126.0 kB\u001b[0m \u001b[31m8.6 MB/s\u001b[0m eta \u001b[36m0:00:00\u001b[0m\n",
            "\u001b[?25hRequirement already satisfied: nltk in /usr/local/lib/python3.10/dist-packages (3.8.1)\n",
            "Requirement already satisfied: requests in /usr/local/lib/python3.10/dist-packages (from chat-downloader) (2.27.1)\n",
            "Collecting isodate (from chat-downloader)\n",
            "  Downloading isodate-0.6.1-py2.py3-none-any.whl (41 kB)\n",
            "\u001b[2K     \u001b[90m━━━━━━━━━━━━━━━━━━━━━━━━━━━━━━━━━━━━━━━━\u001b[0m \u001b[32m41.7/41.7 kB\u001b[0m \u001b[31m6.5 MB/s\u001b[0m eta \u001b[36m0:00:00\u001b[0m\n",
            "\u001b[?25hCollecting docstring-parser (from chat-downloader)\n",
            "  Downloading docstring_parser-0.15-py3-none-any.whl (36 kB)\n",
            "Collecting colorlog (from chat-downloader)\n",
            "  Downloading colorlog-6.7.0-py2.py3-none-any.whl (11 kB)\n",
            "Requirement already satisfied: websocket-client in /usr/local/lib/python3.10/dist-packages (from chat-downloader) (1.5.1)\n",
            "Requirement already satisfied: click in /usr/local/lib/python3.10/dist-packages (from nltk) (8.1.3)\n",
            "Requirement already satisfied: joblib in /usr/local/lib/python3.10/dist-packages (from nltk) (1.2.0)\n",
            "Requirement already satisfied: regex>=2021.8.3 in /usr/local/lib/python3.10/dist-packages (from nltk) (2022.10.31)\n",
            "Requirement already satisfied: tqdm in /usr/local/lib/python3.10/dist-packages (from nltk) (4.65.0)\n",
            "Requirement already satisfied: six in /usr/local/lib/python3.10/dist-packages (from isodate->chat-downloader) (1.16.0)\n",
            "Requirement already satisfied: urllib3<1.27,>=1.21.1 in /usr/local/lib/python3.10/dist-packages (from requests->chat-downloader) (1.26.15)\n",
            "Requirement already satisfied: certifi>=2017.4.17 in /usr/local/lib/python3.10/dist-packages (from requests->chat-downloader) (2022.12.7)\n",
            "Requirement already satisfied: charset-normalizer~=2.0.0 in /usr/local/lib/python3.10/dist-packages (from requests->chat-downloader) (2.0.12)\n",
            "Requirement already satisfied: idna<4,>=2.5 in /usr/local/lib/python3.10/dist-packages (from requests->chat-downloader) (3.4)\n",
            "Installing collected packages: isodate, docstring-parser, colorlog, vaderSentiment, chat-downloader\n",
            "Successfully installed chat-downloader-0.2.7 colorlog-6.7.0 docstring-parser-0.15 isodate-0.6.1 vaderSentiment-3.3.2\n"
          ]
        }
      ]
    },
    {
      "cell_type": "code",
      "source": [
        "%cd /content/drive/MyDrive/StreamMateyOBS"
      ],
      "metadata": {
        "colab": {
          "base_uri": "https://localhost:8080/"
        },
        "id": "yaZARHVeVnaw",
        "outputId": "445e4ded-51a1-40ad-cf3a-fec819937782"
      },
      "execution_count": 3,
      "outputs": [
        {
          "output_type": "stream",
          "name": "stdout",
          "text": [
            "/content/drive/MyDrive/StreamMateyOBS\n"
          ]
        }
      ]
    },
    {
      "cell_type": "code",
      "source": [
        "import asyncio\n",
        "import logging\n",
        "import chat_connector\n"
      ],
      "metadata": {
        "id": "hX_wWdlJUZjy"
      },
      "execution_count": 4,
      "outputs": []
    },
    {
      "cell_type": "code",
      "source": [
        "import sentiment_analyzer\n",
        "import sentiment_meter\n",
        "import database\n"
      ],
      "metadata": {
        "id": "PGGiB8CXXp-X"
      },
      "execution_count": 8,
      "outputs": []
    },
    {
      "cell_type": "code",
      "source": [
        "import asyncio\n",
        "import logging\n",
        "import os\n",
        "from sqlite3 import DatabaseError\n",
        "from chat_connector import ChatConnector\n",
        "from sentiment_analyzer import SentimentAnalyzer\n",
        "from sentiment_meter import SentimentMeter\n",
        "from database import Database\n",
        "\n",
        "# Set up logging\n",
        "logging.basicConfig(level=logging.INFO)\n",
        "logger = logging.getLogger(__name__)\n",
        "\n",
        "# Sentiment analyzer parameters\n",
        "SENTIMENT_THRESHOLD = 0.05  # positive sentiment score\n",
        "\n",
        "# Database parameters\n",
        "DATABASE_PATH = 'chat_messages.db'\n",
        "\n",
        "async def main():\n",
        "    # Initialize components\n",
        "    database = Database(DATABASE_PATH)\n",
        "    sentiment_analyzer = SentimentAnalyzer(database)\n",
        "    sentiment_meter = SentimentMeter()\n",
        "\n",
        "    # Connect to the chosen channel set by the user when they first ran the program.\n",
        "    StreamingService = os.getenv('STREAMING_SERVICE', 'Twitch')\n",
        "    StreamingChannel = os.getenv('STREAMING_CHANNEL', 'fuzzyduckstv')\n",
        "\n",
        "    chat_connector = ChatConnector(StreamingService, StreamingChannel)\n",
        "    await chat_connector.connect()\n",
        "\n",
        "    # Main loop\n",
        "    while True:\n",
        "        try:\n",
        "            # Get a chat message\n",
        "            chat_data = await chat_connector.get_message()\n",
        "            message = chat_data['message']\n",
        "            user = chat_data['author']\n",
        "            timestamp = chat_data['timestamp']\n",
        "\n",
        "            # Analyze the sentiment of the message\n",
        "            sentiment_score = sentiment_analyzer.analyze_sentiment(message, user, timestamp)\n",
        "\n",
        "            # Update the sentiment meter with the new sentiment score\n",
        "            sentiment_meter.update(sentiment_score)\n",
        "\n",
        "            # Wait a bit before the next iteration\n",
        "            await asyncio.sleep(0.1)\n",
        "        except DatabaseError as e:\n",
        "            logger.error(f\"A database error occurred: {e}\")\n",
        "            logger.info(\"Attempting to reconnect to the database...\")\n",
        "            database.reconnect()\n",
        "        except Exception as e:\n",
        "            logger.error(f\"An error occurred: {e}\")\n",
        "            continue\n",
        "        except KeyboardInterrupt:\n",
        "            logger.info(\"Stopping application...\")\n",
        "            break\n",
        "\n",
        "if __name__ == '__main__':\n",
        "    asyncio.run(main())\n"
      ],
      "outputs": [
        {
          "output_type": "error",
          "ename": "ImportError",
          "evalue": "ignored",
          "traceback": [
            "\u001b[0;31m---------------------------------------------------------------------------\u001b[0m",
            "\u001b[0;31mImportError\u001b[0m                               Traceback (most recent call last)",
            "\u001b[0;32m<ipython-input-7-427b8749c267>\u001b[0m in \u001b[0;36m<cell line: 5>\u001b[0;34m()\u001b[0m\n\u001b[1;32m      3\u001b[0m \u001b[0;32mimport\u001b[0m \u001b[0mos\u001b[0m\u001b[0;34m\u001b[0m\u001b[0;34m\u001b[0m\u001b[0m\n\u001b[1;32m      4\u001b[0m \u001b[0;32mfrom\u001b[0m \u001b[0mchat_connector\u001b[0m \u001b[0;32mimport\u001b[0m \u001b[0mChatConnector\u001b[0m\u001b[0;34m\u001b[0m\u001b[0;34m\u001b[0m\u001b[0m\n\u001b[0;32m----> 5\u001b[0;31m \u001b[0;32mfrom\u001b[0m \u001b[0msentiment_analyzer\u001b[0m \u001b[0;32mimport\u001b[0m \u001b[0mSentimentAnalyzer\u001b[0m\u001b[0;34m\u001b[0m\u001b[0;34m\u001b[0m\u001b[0m\n\u001b[0m\u001b[1;32m      6\u001b[0m \u001b[0;32mfrom\u001b[0m \u001b[0msentiment_meter\u001b[0m \u001b[0;32mimport\u001b[0m \u001b[0mSentimentMeter\u001b[0m\u001b[0;34m\u001b[0m\u001b[0;34m\u001b[0m\u001b[0m\n\u001b[1;32m      7\u001b[0m \u001b[0;32mfrom\u001b[0m \u001b[0mdatabase\u001b[0m \u001b[0;32mimport\u001b[0m \u001b[0mDatabase\u001b[0m\u001b[0;34m\u001b[0m\u001b[0;34m\u001b[0m\u001b[0m\n",
            "\u001b[0;31mImportError\u001b[0m: cannot import name 'SentimentAnalyzer' from 'sentiment_analyzer' (/content/drive/MyDrive/StreamMateyOBS/sentiment_analyzer.py)",
            "",
            "\u001b[0;31m---------------------------------------------------------------------------\u001b[0;32m\nNOTE: If your import is failing due to a missing package, you can\nmanually install dependencies using either !pip or !apt.\n\nTo view examples of installing some common dependencies, click the\n\"Open Examples\" button below.\n\u001b[0;31m---------------------------------------------------------------------------\u001b[0m\n"
          ],
          "errorDetails": {
            "actions": [
              {
                "action": "open_url",
                "actionText": "Open Examples",
                "url": "/notebooks/snippets/importing_libraries.ipynb"
              }
            ]
          }
        }
      ],
      "execution_count": 7,
      "metadata": {
        "id": "6wtZ09vvRVEp",
        "colab": {
          "base_uri": "https://localhost:8080/",
          "height": 373
        },
        "outputId": "b54a2ff1-d29b-4903-c32e-f6116b5e0fc5"
      }
    },
    {
      "cell_type": "markdown",
      "source": [
        "Once you have imported the file as a module, you can use the functions and variables that are defined in the file.\n",
        "\n",
        "2. **Run the files as scripts.** This is a bit more complicated, but it gives you more control over how the files are executed. You can run a .py file as a script by using the `!python` command. For example, if you have a .py file called `my_script.py`, you can run it as follows:"
      ],
      "metadata": {
        "id": "vEFOjQK3RVEq"
      }
    },
    {
      "cell_type": "code",
      "source": [
        "!python my_script.py"
      ],
      "outputs": [],
      "execution_count": null,
      "metadata": {
        "id": "1V8RlAKyRVEq"
      }
    },
    {
      "cell_type": "markdown",
      "source": [
        "This will run the `my_script.py` file and print the output to the console.\n",
        "\n",
        "Here are the steps on how to use multiple .py files in Google Colab:\n",
        "\n",
        "1. Save your .py files to Google Drive.\n",
        "2. In your Google Colab notebook, mount your Google Drive.\n",
        "3. Import the .py files as modules or run them as scripts.\n",
        "4. Use the functions and variables that are defined in the .py files.\n",
        "\n",
        "Here is an example of how to use multiple .py files in Google Colab:"
      ],
      "metadata": {
        "id": "vhCDNVmrRVEq"
      }
    },
    {
      "cell_type": "code",
      "source": [
        "# Import the .py files as modules\n",
        "import my_module\n",
        "import my_other_module\n",
        "\n",
        "# Use the functions and variables that are defined in the .py files\n",
        "print(my_module.hello_world())\n",
        "print(my_other_module.sum_numbers(1, 2))"
      ],
      "outputs": [],
      "execution_count": null,
      "metadata": {
        "id": "TJP_qv-1RVEq"
      }
    },
    {
      "cell_type": "markdown",
      "source": [
        "This code will print the following output to the console:\n",
        "\n",
        "```\n",
        "Hello, world!\n",
        "3\n",
        "```\n",
        "\n",
        "I hope this helps! Let me know if you have any other questions."
      ],
      "metadata": {
        "id": "YHh67Q0nRVEr"
      }
    }
  ],
  "metadata": {
    "colab": {
      "provenance": [],
      "include_colab_link": true
    },
    "kernelspec": {
      "display_name": "Python 3",
      "name": "python3"
    }
  },
  "nbformat": 4,
  "nbformat_minor": 0
}